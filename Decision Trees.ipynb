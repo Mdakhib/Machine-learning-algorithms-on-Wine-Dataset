{
 "cells": [
  {
   "cell_type": "markdown",
   "metadata": {},
   "source": [
    "# This notebook is developed to understand the working of decision trees. The decision tree is a classic machine learning algorithm that can be used for classification purposes. Here the same is applied on the red wine quality dataset to classify the wine quality as good or bad "
   ]
  },
  {
   "cell_type": "markdown",
   "metadata": {},
   "source": [
    "### Importing red wine quality dataset and creating two classes. Class 1 is wine quality score > 6 and the other wine quality score <6."
   ]
  },
  {
   "cell_type": "code",
   "execution_count": 1,
   "metadata": {
    "collapsed": true
   },
   "outputs": [],
   "source": [
    "from sklearn import datasets\n",
    "import pandas as pd\n",
    "import numpy as np\n",
    "\n",
    "df = pd.read_csv('/home/shriansh/Downloads/winequality_red.csv', header=None)\n",
    "df.tail()\n",
    "y = df.iloc[1:150, 11].values\n",
    "y = np.where(y > '6', -1, 1)\n",
    "X = df.iloc[1:150, [0,10]].values"
   ]
  },
  {
   "cell_type": "markdown",
   "metadata": {},
   "source": [
    "### sklearn library is imported for splitting the dataset into training and testing. The train-test split function here puts 70 % of data in training and remaining 30% in testing."
   ]
  },
  {
   "cell_type": "code",
   "execution_count": 2,
   "metadata": {},
   "outputs": [
    {
     "name": "stderr",
     "output_type": "stream",
     "text": [
      "/home/shriansh/.local/lib/python3.5/site-packages/sklearn/cross_validation.py:44: DeprecationWarning: This module was deprecated in version 0.18 in favor of the model_selection module into which all the refactored classes and functions are moved. Also note that the interface of the new CV iterators are different from that of this module. This module will be removed in 0.20.\n",
      "  \"This module will be removed in 0.20.\", DeprecationWarning)\n"
     ]
    }
   ],
   "source": [
    "from sklearn.cross_validation import train_test_split\n",
    "X_train, X_test, y_train, y_test = train_test_split(X, y, test_size=0.3, random_state=0)"
   ]
  },
  {
   "cell_type": "markdown",
   "metadata": {},
   "source": [
    "### Standard scaler is imported for tranforming the parameters in such a manner that no attribute has a dominating factor associated with it. It is done for unbiased tree formation without any issues related with the attributes."
   ]
  },
  {
   "cell_type": "code",
   "execution_count": 3,
   "metadata": {},
   "outputs": [
    {
     "name": "stderr",
     "output_type": "stream",
     "text": [
      "/home/shriansh/.local/lib/python3.5/site-packages/sklearn/utils/validation.py:429: DataConversionWarning: Data with input dtype object was converted to float64 by StandardScaler.\n",
      "  warnings.warn(msg, _DataConversionWarning)\n"
     ]
    }
   ],
   "source": [
    "from sklearn.preprocessing import StandardScaler\n",
    "sc = StandardScaler()\n",
    "sc.fit(X_train)\n",
    "X_train_std = sc.transform(X_train)\n",
    "X_test_std = sc.transform(X_test)"
   ]
  },
  {
   "cell_type": "code",
   "execution_count": 4,
   "metadata": {},
   "outputs": [
    {
     "data": {
      "text/plain": [
       "Perceptron(alpha=0.0001, class_weight=None, eta0=0.1, fit_intercept=True,\n",
       "      n_iter=40, n_jobs=1, penalty=None, random_state=0, shuffle=True,\n",
       "      verbose=0, warm_start=False)"
      ]
     },
     "execution_count": 4,
     "metadata": {},
     "output_type": "execute_result"
    }
   ],
   "source": [
    "from sklearn.linear_model import Perceptron\n",
    "ppn = Perceptron(n_iter=40, eta0=0.1, random_state=0)\n",
    "ppn.fit(X_train_std, y_train)"
   ]
  },
  {
   "cell_type": "markdown",
   "metadata": {},
   "source": [
    "### Main part of the notebook where the decision tree classifier is imported from the sklearn library. The tree gets on the traning data and then fits the test data as given below. The accuracy of classification has also been mentioned below."
   ]
  },
  {
   "cell_type": "code",
   "execution_count": 5,
   "metadata": {},
   "outputs": [
    {
     "name": "stdout",
     "output_type": "stream",
     "text": [
      "Accuracy on training set: 1.000\n",
      "Accuracy on test set: 0.867\n"
     ]
    }
   ],
   "source": [
    "from sklearn.tree import DecisionTreeClassifier\n",
    "from sklearn.cross_validation import train_test_split\n",
    "tree = DecisionTreeClassifier(max_depth=4,random_state = 0)\n",
    "tree.fit(X_train,y_train)\n",
    "print(\"Accuracy on training set: {:.3f}\".format(tree.score(X_train,y_train)))\n",
    "print(\"Accuracy on test set: {:.3f}\".format(tree.score(X_test,y_test)))"
   ]
  },
  {
   "cell_type": "markdown",
   "metadata": {},
   "source": [
    "### Graphviz is imported to observe and save the decision tree in our system. The prime attributes used for wine quality classification are Fixed Acidity and Alcohol content"
   ]
  },
  {
   "cell_type": "code",
   "execution_count": 6,
   "metadata": {
    "collapsed": true
   },
   "outputs": [],
   "source": [
    "from sklearn.tree import export_graphviz"
   ]
  },
  {
   "cell_type": "code",
   "execution_count": 7,
   "metadata": {
    "collapsed": true
   },
   "outputs": [],
   "source": [
    "export_graphviz(tree,out_file='tree.dot',class_names=['Bad Wine Quality(<6)','Good Quality(>6)'],feature_names=['Fixed Acidity', 'Alcohol'],impurity=False,filled=True)"
   ]
  },
  {
   "cell_type": "code",
   "execution_count": 8,
   "metadata": {
    "collapsed": true
   },
   "outputs": [],
   "source": [
    "import graphviz"
   ]
  },
  {
   "cell_type": "markdown",
   "metadata": {},
   "source": [
    "### Observing the formed decision tree"
   ]
  },
  {
   "cell_type": "code",
   "execution_count": 9,
   "metadata": {},
   "outputs": [
    {
     "data": {
      "image/svg+xml": [
       "<?xml version=\"1.0\" encoding=\"UTF-8\" standalone=\"no\"?>\n",
       "<!DOCTYPE svg PUBLIC \"-//W3C//DTD SVG 1.1//EN\"\n",
       " \"http://www.w3.org/Graphics/SVG/1.1/DTD/svg11.dtd\">\n",
       "<!-- Generated by graphviz version 2.38.0 (20140413.2041)\n",
       " -->\n",
       "<!-- Title: Tree Pages: 1 -->\n",
       "<svg width=\"1069pt\" height=\"477pt\"\n",
       " viewBox=\"0.00 0.00 1069.00 477.00\" xmlns=\"http://www.w3.org/2000/svg\" xmlns:xlink=\"http://www.w3.org/1999/xlink\">\n",
       "<g id=\"graph0\" class=\"graph\" transform=\"scale(1 1) rotate(0) translate(4 473)\">\n",
       "<title>Tree</title>\n",
       "<polygon fill=\"white\" stroke=\"none\" points=\"-4,4 -4,-473 1065,-473 1065,4 -4,4\"/>\n",
       "<!-- 0 -->\n",
       "<g id=\"node1\" class=\"node\"><title>0</title>\n",
       "<polygon fill=\"#399de5\" fill-opacity=\"0.968627\" stroke=\"black\" points=\"471,-469 292,-469 292,-401 471,-401 471,-469\"/>\n",
       "<text text-anchor=\"middle\" x=\"381.5\" y=\"-453.8\" font-family=\"Times,serif\" font-size=\"14.00\">Alcohol &lt;= 9.15</text>\n",
       "<text text-anchor=\"middle\" x=\"381.5\" y=\"-438.8\" font-family=\"Times,serif\" font-size=\"14.00\">samples = 104</text>\n",
       "<text text-anchor=\"middle\" x=\"381.5\" y=\"-423.8\" font-family=\"Times,serif\" font-size=\"14.00\">value = [3, 101]</text>\n",
       "<text text-anchor=\"middle\" x=\"381.5\" y=\"-408.8\" font-family=\"Times,serif\" font-size=\"14.00\">class = Acceptable Quality(6)</text>\n",
       "</g>\n",
       "<!-- 1 -->\n",
       "<g id=\"node2\" class=\"node\"><title>1</title>\n",
       "<polygon fill=\"#399de5\" fill-opacity=\"0.831373\" stroke=\"black\" points=\"373,-365 194,-365 194,-297 373,-297 373,-365\"/>\n",
       "<text text-anchor=\"middle\" x=\"283.5\" y=\"-349.8\" font-family=\"Times,serif\" font-size=\"14.00\">Fixed Acidity &lt;= 8.2</text>\n",
       "<text text-anchor=\"middle\" x=\"283.5\" y=\"-334.8\" font-family=\"Times,serif\" font-size=\"14.00\">samples = 7</text>\n",
       "<text text-anchor=\"middle\" x=\"283.5\" y=\"-319.8\" font-family=\"Times,serif\" font-size=\"14.00\">value = [1, 6]</text>\n",
       "<text text-anchor=\"middle\" x=\"283.5\" y=\"-304.8\" font-family=\"Times,serif\" font-size=\"14.00\">class = Acceptable Quality(6)</text>\n",
       "</g>\n",
       "<!-- 0&#45;&gt;1 -->\n",
       "<g id=\"edge1\" class=\"edge\"><title>0&#45;&gt;1</title>\n",
       "<path fill=\"none\" stroke=\"black\" d=\"M349.682,-400.884C341.039,-391.887 331.578,-382.041 322.583,-372.678\"/>\n",
       "<polygon fill=\"black\" stroke=\"black\" points=\"324.946,-370.086 315.494,-365.299 319.898,-374.935 324.946,-370.086\"/>\n",
       "<text text-anchor=\"middle\" x=\"314.994\" y=\"-386.594\" font-family=\"Times,serif\" font-size=\"14.00\">True</text>\n",
       "</g>\n",
       "<!-- 4 -->\n",
       "<g id=\"node5\" class=\"node\"><title>4</title>\n",
       "<polygon fill=\"#399de5\" fill-opacity=\"0.980392\" stroke=\"black\" points=\"570,-365 391,-365 391,-297 570,-297 570,-365\"/>\n",
       "<text text-anchor=\"middle\" x=\"480.5\" y=\"-349.8\" font-family=\"Times,serif\" font-size=\"14.00\">Fixed Acidity &lt;= 5.9</text>\n",
       "<text text-anchor=\"middle\" x=\"480.5\" y=\"-334.8\" font-family=\"Times,serif\" font-size=\"14.00\">samples = 97</text>\n",
       "<text text-anchor=\"middle\" x=\"480.5\" y=\"-319.8\" font-family=\"Times,serif\" font-size=\"14.00\">value = [2, 95]</text>\n",
       "<text text-anchor=\"middle\" x=\"480.5\" y=\"-304.8\" font-family=\"Times,serif\" font-size=\"14.00\">class = Acceptable Quality(6)</text>\n",
       "</g>\n",
       "<!-- 0&#45;&gt;4 -->\n",
       "<g id=\"edge4\" class=\"edge\"><title>0&#45;&gt;4</title>\n",
       "<path fill=\"none\" stroke=\"black\" d=\"M413.642,-400.884C422.374,-391.887 431.931,-382.041 441.018,-372.678\"/>\n",
       "<polygon fill=\"black\" stroke=\"black\" points=\"443.727,-374.913 448.18,-365.299 438.704,-370.038 443.727,-374.913\"/>\n",
       "<text text-anchor=\"middle\" x=\"448.553\" y=\"-386.597\" font-family=\"Times,serif\" font-size=\"14.00\">False</text>\n",
       "</g>\n",
       "<!-- 2 -->\n",
       "<g id=\"node3\" class=\"node\"><title>2</title>\n",
       "<polygon fill=\"#399de5\" stroke=\"black\" points=\"179,-253.5 0,-253.5 0,-200.5 179,-200.5 179,-253.5\"/>\n",
       "<text text-anchor=\"middle\" x=\"89.5\" y=\"-238.3\" font-family=\"Times,serif\" font-size=\"14.00\">samples = 6</text>\n",
       "<text text-anchor=\"middle\" x=\"89.5\" y=\"-223.3\" font-family=\"Times,serif\" font-size=\"14.00\">value = [0, 6]</text>\n",
       "<text text-anchor=\"middle\" x=\"89.5\" y=\"-208.3\" font-family=\"Times,serif\" font-size=\"14.00\">class = Acceptable Quality(6)</text>\n",
       "</g>\n",
       "<!-- 1&#45;&gt;2 -->\n",
       "<g id=\"edge2\" class=\"edge\"><title>1&#45;&gt;2</title>\n",
       "<path fill=\"none\" stroke=\"black\" d=\"M220.514,-296.884C196.877,-284.456 170.155,-270.406 147.038,-258.252\"/>\n",
       "<polygon fill=\"black\" stroke=\"black\" points=\"148.518,-255.076 138.038,-253.52 145.26,-261.272 148.518,-255.076\"/>\n",
       "</g>\n",
       "<!-- 3 -->\n",
       "<g id=\"node4\" class=\"node\"><title>3</title>\n",
       "<polygon fill=\"#e58139\" stroke=\"black\" points=\"371.5,-253.5 197.5,-253.5 197.5,-200.5 371.5,-200.5 371.5,-253.5\"/>\n",
       "<text text-anchor=\"middle\" x=\"284.5\" y=\"-238.3\" font-family=\"Times,serif\" font-size=\"14.00\">samples = 1</text>\n",
       "<text text-anchor=\"middle\" x=\"284.5\" y=\"-223.3\" font-family=\"Times,serif\" font-size=\"14.00\">value = [1, 0]</text>\n",
       "<text text-anchor=\"middle\" x=\"284.5\" y=\"-208.3\" font-family=\"Times,serif\" font-size=\"14.00\">class = Bad Wine Quality(4)</text>\n",
       "</g>\n",
       "<!-- 1&#45;&gt;3 -->\n",
       "<g id=\"edge3\" class=\"edge\"><title>1&#45;&gt;3</title>\n",
       "<path fill=\"none\" stroke=\"black\" d=\"M283.825,-296.884C283.928,-286.326 284.043,-274.597 284.148,-263.854\"/>\n",
       "<polygon fill=\"black\" stroke=\"black\" points=\"287.652,-263.554 284.25,-253.52 280.652,-263.485 287.652,-263.554\"/>\n",
       "</g>\n",
       "<!-- 5 -->\n",
       "<g id=\"node6\" class=\"node\"><title>5</title>\n",
       "<polygon fill=\"#399de5\" fill-opacity=\"0.831373\" stroke=\"black\" points=\"570,-261 391,-261 391,-193 570,-193 570,-261\"/>\n",
       "<text text-anchor=\"middle\" x=\"480.5\" y=\"-245.8\" font-family=\"Times,serif\" font-size=\"14.00\">Fixed Acidity &lt;= 5.65</text>\n",
       "<text text-anchor=\"middle\" x=\"480.5\" y=\"-230.8\" font-family=\"Times,serif\" font-size=\"14.00\">samples = 7</text>\n",
       "<text text-anchor=\"middle\" x=\"480.5\" y=\"-215.8\" font-family=\"Times,serif\" font-size=\"14.00\">value = [1, 6]</text>\n",
       "<text text-anchor=\"middle\" x=\"480.5\" y=\"-200.8\" font-family=\"Times,serif\" font-size=\"14.00\">class = Acceptable Quality(6)</text>\n",
       "</g>\n",
       "<!-- 4&#45;&gt;5 -->\n",
       "<g id=\"edge5\" class=\"edge\"><title>4&#45;&gt;5</title>\n",
       "<path fill=\"none\" stroke=\"black\" d=\"M480.5,-296.884C480.5,-288.778 480.5,-279.982 480.5,-271.472\"/>\n",
       "<polygon fill=\"black\" stroke=\"black\" points=\"484,-271.299 480.5,-261.299 477,-271.299 484,-271.299\"/>\n",
       "</g>\n",
       "<!-- 8 -->\n",
       "<g id=\"node9\" class=\"node\"><title>8</title>\n",
       "<polygon fill=\"#399de5\" fill-opacity=\"0.988235\" stroke=\"black\" points=\"767,-261 588,-261 588,-193 767,-193 767,-261\"/>\n",
       "<text text-anchor=\"middle\" x=\"677.5\" y=\"-245.8\" font-family=\"Times,serif\" font-size=\"14.00\">Fixed Acidity &lt;= 8.75</text>\n",
       "<text text-anchor=\"middle\" x=\"677.5\" y=\"-230.8\" font-family=\"Times,serif\" font-size=\"14.00\">samples = 90</text>\n",
       "<text text-anchor=\"middle\" x=\"677.5\" y=\"-215.8\" font-family=\"Times,serif\" font-size=\"14.00\">value = [1, 89]</text>\n",
       "<text text-anchor=\"middle\" x=\"677.5\" y=\"-200.8\" font-family=\"Times,serif\" font-size=\"14.00\">class = Acceptable Quality(6)</text>\n",
       "</g>\n",
       "<!-- 4&#45;&gt;8 -->\n",
       "<g id=\"edge8\" class=\"edge\"><title>4&#45;&gt;8</title>\n",
       "<path fill=\"none\" stroke=\"black\" d=\"M544.46,-296.884C563.654,-286.946 584.85,-275.971 604.576,-265.757\"/>\n",
       "<polygon fill=\"black\" stroke=\"black\" points=\"606.253,-268.831 613.524,-261.125 603.034,-262.615 606.253,-268.831\"/>\n",
       "</g>\n",
       "<!-- 6 -->\n",
       "<g id=\"node7\" class=\"node\"><title>6</title>\n",
       "<polygon fill=\"#399de5\" stroke=\"black\" points=\"375,-149.5 196,-149.5 196,-96.5 375,-96.5 375,-149.5\"/>\n",
       "<text text-anchor=\"middle\" x=\"285.5\" y=\"-134.3\" font-family=\"Times,serif\" font-size=\"14.00\">samples = 6</text>\n",
       "<text text-anchor=\"middle\" x=\"285.5\" y=\"-119.3\" font-family=\"Times,serif\" font-size=\"14.00\">value = [0, 6]</text>\n",
       "<text text-anchor=\"middle\" x=\"285.5\" y=\"-104.3\" font-family=\"Times,serif\" font-size=\"14.00\">class = Acceptable Quality(6)</text>\n",
       "</g>\n",
       "<!-- 5&#45;&gt;6 -->\n",
       "<g id=\"edge6\" class=\"edge\"><title>5&#45;&gt;6</title>\n",
       "<path fill=\"none\" stroke=\"black\" d=\"M417.189,-192.884C393.43,-180.456 366.571,-166.406 343.334,-154.252\"/>\n",
       "<polygon fill=\"black\" stroke=\"black\" points=\"344.771,-151.054 334.288,-149.52 341.527,-157.256 344.771,-151.054\"/>\n",
       "</g>\n",
       "<!-- 7 -->\n",
       "<g id=\"node8\" class=\"node\"><title>7</title>\n",
       "<polygon fill=\"#e58139\" stroke=\"black\" points=\"567.5,-149.5 393.5,-149.5 393.5,-96.5 567.5,-96.5 567.5,-149.5\"/>\n",
       "<text text-anchor=\"middle\" x=\"480.5\" y=\"-134.3\" font-family=\"Times,serif\" font-size=\"14.00\">samples = 1</text>\n",
       "<text text-anchor=\"middle\" x=\"480.5\" y=\"-119.3\" font-family=\"Times,serif\" font-size=\"14.00\">value = [1, 0]</text>\n",
       "<text text-anchor=\"middle\" x=\"480.5\" y=\"-104.3\" font-family=\"Times,serif\" font-size=\"14.00\">class = Bad Wine Quality(4)</text>\n",
       "</g>\n",
       "<!-- 5&#45;&gt;7 -->\n",
       "<g id=\"edge7\" class=\"edge\"><title>5&#45;&gt;7</title>\n",
       "<path fill=\"none\" stroke=\"black\" d=\"M480.5,-192.884C480.5,-182.326 480.5,-170.597 480.5,-159.854\"/>\n",
       "<polygon fill=\"black\" stroke=\"black\" points=\"484,-159.52 480.5,-149.52 477,-159.52 484,-159.52\"/>\n",
       "</g>\n",
       "<!-- 9 -->\n",
       "<g id=\"node10\" class=\"node\"><title>9</title>\n",
       "<polygon fill=\"#399de5\" stroke=\"black\" points=\"766,-149.5 587,-149.5 587,-96.5 766,-96.5 766,-149.5\"/>\n",
       "<text text-anchor=\"middle\" x=\"676.5\" y=\"-134.3\" font-family=\"Times,serif\" font-size=\"14.00\">samples = 75</text>\n",
       "<text text-anchor=\"middle\" x=\"676.5\" y=\"-119.3\" font-family=\"Times,serif\" font-size=\"14.00\">value = [0, 75]</text>\n",
       "<text text-anchor=\"middle\" x=\"676.5\" y=\"-104.3\" font-family=\"Times,serif\" font-size=\"14.00\">class = Acceptable Quality(6)</text>\n",
       "</g>\n",
       "<!-- 8&#45;&gt;9 -->\n",
       "<g id=\"edge9\" class=\"edge\"><title>8&#45;&gt;9</title>\n",
       "<path fill=\"none\" stroke=\"black\" d=\"M677.175,-192.884C677.072,-182.326 676.957,-170.597 676.852,-159.854\"/>\n",
       "<polygon fill=\"black\" stroke=\"black\" points=\"680.348,-159.485 676.75,-149.52 673.348,-159.554 680.348,-159.485\"/>\n",
       "</g>\n",
       "<!-- 10 -->\n",
       "<g id=\"node11\" class=\"node\"><title>10</title>\n",
       "<polygon fill=\"#399de5\" fill-opacity=\"0.929412\" stroke=\"black\" points=\"963,-157 784,-157 784,-89 963,-89 963,-157\"/>\n",
       "<text text-anchor=\"middle\" x=\"873.5\" y=\"-141.8\" font-family=\"Times,serif\" font-size=\"14.00\">Alcohol &lt;= 9.35</text>\n",
       "<text text-anchor=\"middle\" x=\"873.5\" y=\"-126.8\" font-family=\"Times,serif\" font-size=\"14.00\">samples = 15</text>\n",
       "<text text-anchor=\"middle\" x=\"873.5\" y=\"-111.8\" font-family=\"Times,serif\" font-size=\"14.00\">value = [1, 14]</text>\n",
       "<text text-anchor=\"middle\" x=\"873.5\" y=\"-96.8\" font-family=\"Times,serif\" font-size=\"14.00\">class = Acceptable Quality(6)</text>\n",
       "</g>\n",
       "<!-- 8&#45;&gt;10 -->\n",
       "<g id=\"edge10\" class=\"edge\"><title>8&#45;&gt;10</title>\n",
       "<path fill=\"none\" stroke=\"black\" d=\"M741.136,-192.884C760.231,-182.946 781.32,-171.971 800.947,-161.757\"/>\n",
       "<polygon fill=\"black\" stroke=\"black\" points=\"802.594,-164.846 809.849,-157.125 799.362,-158.636 802.594,-164.846\"/>\n",
       "</g>\n",
       "<!-- 11 -->\n",
       "<g id=\"node12\" class=\"node\"><title>11</title>\n",
       "<polygon fill=\"#399de5\" fill-opacity=\"0.749020\" stroke=\"black\" points=\"864,-53 685,-53 685,-0 864,-0 864,-53\"/>\n",
       "<text text-anchor=\"middle\" x=\"774.5\" y=\"-37.8\" font-family=\"Times,serif\" font-size=\"14.00\">samples = 5</text>\n",
       "<text text-anchor=\"middle\" x=\"774.5\" y=\"-22.8\" font-family=\"Times,serif\" font-size=\"14.00\">value = [1, 4]</text>\n",
       "<text text-anchor=\"middle\" x=\"774.5\" y=\"-7.8\" font-family=\"Times,serif\" font-size=\"14.00\">class = Acceptable Quality(6)</text>\n",
       "</g>\n",
       "<!-- 10&#45;&gt;11 -->\n",
       "<g id=\"edge11\" class=\"edge\"><title>10&#45;&gt;11</title>\n",
       "<path fill=\"none\" stroke=\"black\" d=\"M838.875,-88.9485C829.099,-79.6175 818.471,-69.4722 808.72,-60.1641\"/>\n",
       "<polygon fill=\"black\" stroke=\"black\" points=\"811.113,-57.6097 801.462,-53.2367 806.279,-62.6732 811.113,-57.6097\"/>\n",
       "</g>\n",
       "<!-- 12 -->\n",
       "<g id=\"node13\" class=\"node\"><title>12</title>\n",
       "<polygon fill=\"#399de5\" stroke=\"black\" points=\"1061,-53 882,-53 882,-0 1061,-0 1061,-53\"/>\n",
       "<text text-anchor=\"middle\" x=\"971.5\" y=\"-37.8\" font-family=\"Times,serif\" font-size=\"14.00\">samples = 10</text>\n",
       "<text text-anchor=\"middle\" x=\"971.5\" y=\"-22.8\" font-family=\"Times,serif\" font-size=\"14.00\">value = [0, 10]</text>\n",
       "<text text-anchor=\"middle\" x=\"971.5\" y=\"-7.8\" font-family=\"Times,serif\" font-size=\"14.00\">class = Acceptable Quality(6)</text>\n",
       "</g>\n",
       "<!-- 10&#45;&gt;12 -->\n",
       "<g id=\"edge12\" class=\"edge\"><title>10&#45;&gt;12</title>\n",
       "<path fill=\"none\" stroke=\"black\" d=\"M907.776,-88.9485C917.357,-79.709 927.767,-69.671 937.342,-60.4381\"/>\n",
       "<polygon fill=\"black\" stroke=\"black\" points=\"940.041,-62.6976 944.81,-53.2367 935.182,-57.6586 940.041,-62.6976\"/>\n",
       "</g>\n",
       "</g>\n",
       "</svg>\n"
      ],
      "text/plain": [
       "<graphviz.files.Source at 0x7ff75ad7e470>"
      ]
     },
     "execution_count": 9,
     "metadata": {},
     "output_type": "execute_result"
    }
   ],
   "source": [
    "with open(\"/home/shriansh/Downloads/tree.dot\") as f:\n",
    "    dot_graph = f.read()\n",
    "graphviz.Source(dot_graph)"
   ]
  },
  {
   "cell_type": "markdown",
   "metadata": {},
   "source": [
    "### The following code snippet is very important for many machine learning applications. Here the attribute set is evaluated. The feature or attribute importance of the given dataset is done below. In this manner one can easily find out the important attributes of the concerned dataset and those can be used for better prediction or classification."
   ]
  },
  {
   "cell_type": "code",
   "execution_count": 10,
   "metadata": {},
   "outputs": [
    {
     "name": "stdout",
     "output_type": "stream",
     "text": [
      " 1) Fixed Acidity                  0.594159\n",
      " 2) Volatile Acid                  0.053431\n",
      " 3) Citric Acid                    0.052376\n",
      " 4) Residual Sugar                 0.050900\n",
      " 5) Chlorides                      0.046357\n",
      " 6) Free Sulfur Oxides             0.035957\n",
      " 7) Total Sulfur Oxide             0.033829\n",
      " 8) Density                        0.028104\n",
      " 9) pH                             0.027470\n",
      "10) Sulphates                      0.027359\n",
      "11) Alcohol                        0.026148\n",
      "12) Quality                        0.023911\n"
     ]
    }
   ],
   "source": [
    "from sklearn.ensemble import RandomForestClassifier\n",
    "from sklearn.cross_validation import train_test_split\n",
    "import pandas as pd\n",
    "import numpy as np\n",
    "df = pd.read_csv('/home/shriansh/Downloads/winequality_red.csv', header=None)\n",
    "feat_labels = df.columns[0:]\n",
    "feat_names = ['Fixed Acidity','Volatile Acid','Citric Acid','Residual Sugar','Chlorides','Free Sulfur Oxides','Total Sulfur Oxide','Density','pH','Sulphates','Alcohol','Quality']\n",
    "y = df.iloc[1:150, 11].values\n",
    "y = np.where(y == '6', -1, 1)\n",
    "X = df.iloc[1:150, :].values\n",
    "X_train, X_test, y_train, y_test = train_test_split(X, y, test_size=0.3, random_state=0)\n",
    "forest = RandomForestClassifier(n_estimators=10000,random_state=0,n_jobs=-1)\n",
    "forest.fit(X_train, y_train)\n",
    "importances = forest.feature_importances_\n",
    "indices = np.argsort(importances)[::-1]\n",
    "for f in range(X_train.shape[1]):\n",
    "    print(\"%2d) %-*s %f\" % (f + 1, 30,feat_names[f],importances[indices[f]]))"
   ]
  },
  {
   "cell_type": "markdown",
   "metadata": {},
   "source": [
    "### Feature Importance graph "
   ]
  },
  {
   "cell_type": "code",
   "execution_count": 12,
   "metadata": {},
   "outputs": [
    {
     "data": {
      "image/png": "[encoded data removed]",
      "text/plain": [
       "<matplotlib.figure.Figure at 0x7fb345647cc0>"
      ]
     },
     "metadata": {},
     "output_type": "display_data"
    }
   ],
   "source": [
    "%matplotlib inline\n",
    "import matplotlib.pyplot as plt\n",
    "plt.title('Feature Importances')\n",
    "plt.bar(range(X_train.shape[1]),\n",
    "importances[indices],\n",
    "color='lightblue',\n",
    "align='center')\n",
    "plt.xticks(range(X_train.shape[1]),\n",
    "feat_names, rotation=90)\n",
    "plt.xlim([-1, X_train.shape[1]])\n",
    "plt.tight_layout()\n",
    "plt.show()"
   ]
  }
 ],
 "metadata": {
  "kernelspec": {
   "display_name": "Python 3",
   "language": "python",
   "name": "python3"
  },
  "language_info": {
   "codemirror_mode": {
    "name": "ipython",
    "version": 3
   },
   "file_extension": ".py",
   "mimetype": "text/x-python",
   "name": "python",
   "nbconvert_exporter": "python",
   "pygments_lexer": "ipython3",
   "version": "3.5.2"
  }
 },
 "nbformat": 4,
 "nbformat_minor": 2
}
