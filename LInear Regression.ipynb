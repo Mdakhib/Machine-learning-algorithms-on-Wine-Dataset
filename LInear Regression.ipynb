{
 "cells": [
  {
   "cell_type": "markdown",
   "metadata": {},
   "source": [
    "# The following notebook has been developed to study logistic regression algorithm. Here the wine quality is classified into two classes by applying logistic regression. "
   ]
  },
  {
   "cell_type": "markdown",
   "metadata": {
    "collapsed": true
   },
   "source": [
    "### The code given below shows the plot of a sigmoid function. The sigmoid function is also called the squashing function as it squashes the value of any function within the range [-1 1]. In logisitic regression we deal with probaility values for estimation of the classes and here sigmoid function is very useful for the task."
   ]
  },
  {
   "cell_type": "code",
   "execution_count": 9,
   "metadata": {},
   "outputs": [
    {
     "data": {
      "image/png": "[encoded data removed]",
      "text/plain": [
       "<matplotlib.figure.Figure at 0x7fd4f0e5f198>"
      ]
     },
     "metadata": {},
     "output_type": "display_data"
    }
   ],
   "source": [
    "import matplotlib.pyplot as plt\n",
    "import numpy as np\n",
    "def sigmoid(z):\n",
    "     return 1.0 / (1.0 + np.exp(-z))\n",
    "z = np.arange(-7, 7, 0.1)\n",
    "phi_z = sigmoid(z)\n",
    "plt.plot(z, phi_z)\n",
    "plt.axvline(0.0, color='k')\n",
    "plt.axhspan(0.0, 1.0, facecolor='1.0', alpha=1.0, ls='dotted')\n",
    "plt.axhline(y=0.5, ls='dotted', color='k')\n",
    "plt.yticks([0.0, 0.5, 1.0])\n",
    "plt.ylim(-0.1, 1.1)\n",
    "plt.xlabel('z')\n",
    "plt.ylabel('$\\phi (z)$')\n",
    "plt.show()"
   ]
  },
  {
   "cell_type": "markdown",
   "metadata": {},
   "source": [
    "### The wine quality dataset is imported and two classes are created for the attribute \"Quality\". Here class 1 is wine quality > 5 and the class 2 is wine quality < 5."
   ]
  },
  {
   "cell_type": "code",
   "execution_count": 76,
   "metadata": {},
   "outputs": [
    {
     "name": "stdout",
     "output_type": "stream",
     "text": [
      "[ 1  1  1 -1  1  1  1 -1 -1  1  1  1  1  1  1  1 -1  1  1 -1 -1  1  1  1 -1\n",
      "  1  1  1  1 -1  1 -1  1 -1  1 -1 -1 -1  1  1  1  1 -1  1  1  1  1  1  1  1\n",
      "  1 -1 -1  1 -1  1  1  1  1 -1  1  1 -1  1  1  1  1  1  1 -1 -1  1  1  1  1\n",
      "  1  1 -1  1  1  1  1  1  1 -1  1 -1  1  1  1  1 -1  1  1  1 -1  1  1  1 -1\n",
      " -1 -1 -1  1  1  1  1  1 -1  1  1  1  1 -1  1 -1 -1 -1 -1 -1  1 -1  1  1  1\n",
      "  1  1  1 -1  1  1  1  1 -1 -1  1  1  1  1  1  1  1 -1  1 -1  1  1  1 -1 -1\n",
      " -1  1  1  1  1  1  1  1  1 -1  1  1 -1  1  1  1  1  1 -1  1  1 -1 -1 -1  1\n",
      "  1  1 -1  1  1  1  1  1  1 -1  1  1  1  1  1  1 -1  1  1  1  1  1 -1 -1  1\n",
      " -1  1  1  1 -1 -1 -1  1  1 -1 -1 -1 -1  1 -1  1  1  1  1  1 -1  1  1 -1  1\n",
      " -1 -1  1 -1  1 -1 -1 -1  1 -1 -1 -1 -1 -1 -1  1 -1 -1 -1 -1 -1  1  1 -1 -1\n",
      " -1 -1  1  1 -1  1  1  1  1 -1  1  1  1  1  1 -1  1 -1 -1 -1 -1 -1  1  1  1\n",
      " -1 -1 -1 -1 -1 -1 -1  1 -1  1  1 -1 -1 -1  1 -1  1 -1 -1 -1  1  1  1  1  1\n",
      " -1 -1  1  1  1 -1  1 -1 -1 -1 -1 -1 -1  1  1 -1  1 -1 -1 -1 -1  1  1 -1 -1\n",
      " -1 -1  1 -1  1 -1 -1 -1  1 -1 -1 -1  1 -1 -1 -1 -1 -1 -1 -1  1 -1 -1 -1 -1\n",
      " -1 -1  1  1 -1 -1  1 -1 -1 -1  1 -1  1  1 -1 -1 -1  1  1 -1  1 -1 -1  1 -1\n",
      " -1 -1 -1 -1 -1 -1 -1 -1 -1  1 -1 -1 -1 -1 -1 -1 -1  1  1  1 -1  1 -1 -1  1\n",
      "  1 -1 -1 -1  1 -1 -1 -1 -1  1 -1  1  1 -1  1  1 -1  1 -1  1 -1 -1  1 -1  1\n",
      " -1 -1 -1  1 -1 -1  1 -1  1 -1  1 -1 -1 -1  1 -1 -1 -1 -1 -1 -1  1  1 -1 -1\n",
      " -1 -1 -1 -1  1 -1  1  1 -1  1 -1  1  1  1 -1  1 -1 -1 -1  1  1 -1 -1  1 -1\n",
      "  1  1 -1  1 -1  1 -1  1  1 -1  1  1 -1 -1 -1 -1 -1 -1 -1 -1 -1 -1  1 -1]\n"
     ]
    }
   ],
   "source": [
    "from sklearn import datasets\n",
    "import pandas as pd\n",
    "import numpy as np\n",
    "df = pd.read_csv('/home/shriansh/Downloads/winequality_red.csv', header=None)\n",
    "y = df.iloc[1:500, 11].values\n",
    "y = np.where(y >='6', -1, 1)\n",
    "print(y)\n",
    "X = df.iloc[1:500, [0,10]].values"
   ]
  },
  {
   "cell_type": "markdown",
   "metadata": {},
   "source": [
    "### sklearn library is imported for splitting the dataset into training and testing. The train-test split function here puts 70 % of data in training and remaining 30% in testing."
   ]
  },
  {
   "cell_type": "code",
   "execution_count": 77,
   "metadata": {},
   "outputs": [],
   "source": [
    "from sklearn.cross_validation import train_test_split\n",
    "X_train, X_test, y_train, y_test = train_test_split(X, y, test_size=0.3, random_state=0)"
   ]
  },
  {
   "cell_type": "markdown",
   "metadata": {},
   "source": [
    "### Standard scaler is imported for tranforming the parameters in such a manner that no attribute has a dominating factor associated with it. It is done for unbiased tree formation without any issues related with the attributes."
   ]
  },
  {
   "cell_type": "code",
   "execution_count": 78,
   "metadata": {},
   "outputs": [
    {
     "name": "stderr",
     "output_type": "stream",
     "text": [
      "/home/shriansh/.local/lib/python3.5/site-packages/sklearn/utils/validation.py:429: DataConversionWarning: Data with input dtype object was converted to float64 by StandardScaler.\n",
      "  warnings.warn(msg, _DataConversionWarning)\n"
     ]
    }
   ],
   "source": [
    "from sklearn.preprocessing import StandardScaler\n",
    "sc = StandardScaler()\n",
    "sc.fit(X_train)\n",
    "X_train_std = sc.transform(X_train)\n",
    "X_test_std = sc.transform(X_test)\n",
    "X_combined_std = np.vstack((X_train_std, X_test_std))\n",
    "y_combined = np.hstack((y_train, y_test))\n"
   ]
  },
  {
   "cell_type": "markdown",
   "metadata": {},
   "source": [
    "### Matlotlib library is called and the plotting function is generated below. The resolution, size min range, max range, limits etc is specified."
   ]
  },
  {
   "cell_type": "code",
   "execution_count": 79,
   "metadata": {
    "collapsed": true
   },
   "outputs": [],
   "source": [
    "from matplotlib.colors import ListedColormap\n",
    "import matplotlib.pyplot as plt\n",
    "def plot_decision_regions(X, y, classifier,test_idx=None, resolution=0.02):\n",
    "    markers = ('s', 'x', 'o', '^', 'v')\n",
    "    colors = ('red', 'blue', 'lightgreen', 'gray', 'cyan')\n",
    "    cmap = ListedColormap(colors[:len(np.unique(y))])\n",
    "    # plot the decision surface\n",
    "    x1_min, x1_max = X[:, 0].min() - 1, X[:, 0].max() + 1\n",
    "    x2_min, x2_max = X[:, 1].min() - 1, X[:, 1].max() + 1\n",
    "    xx1, xx2 = np.meshgrid(np.arange(x1_min, x1_max, resolution),\n",
    "    np.arange(x2_min, x2_max, resolution))\n",
    "    Z = classifier.predict(np.array([xx1.ravel(), xx2.ravel()]).T)\n",
    "    Z = Z.reshape(xx1.shape)\n",
    "    plt.contourf(xx1, xx2, Z, alpha=0.4, cmap=cmap)\n",
    "    plt.xlim(xx1.min(), xx1.max())\n",
    "    plt.ylim(xx2.min(), xx2.max())\n",
    "    # plot all samples\n",
    "    X_test, y_test = X[test_idx, :], y[test_idx]\n",
    "    for idx, cl in enumerate(np.unique(y)):\n",
    "        plt.scatter(x=X[y == cl, 0], y=X[y == cl, 1],\n",
    "        alpha=0.8, c=cmap(idx),\n",
    "        marker=markers[idx], label=cl)\n",
    "        # highlight test samples\n",
    "        if test_idx:\n",
    "            X_test, y_test = X[test_idx, :], y[test_idx]\n",
    "            plt.scatter(X_test[:, 0], X_test[:, 1], c='',\n",
    "\n",
    "                        alpha=1.0, linewidth=1, marker='o',\n",
    "            s=55, label='test set')"
   ]
  },
  {
   "cell_type": "markdown",
   "metadata": {},
   "source": [
    "### The main part of the notebook where the Logistic regression module of the sklearn in imported for performing logistic regression on the wine quality dataset."
   ]
  },
  {
   "cell_type": "code",
   "execution_count": 80,
   "metadata": {},
   "outputs": [
    {
     "data": {
      "image/png": "[encoded data removed]",
      "text/plain": [
       "<matplotlib.figure.Figure at 0x7fd4c9914c50>"
      ]
     },
     "metadata": {},
     "output_type": "display_data"
    },
    {
     "name": "stdout",
     "output_type": "stream",
     "text": [
      "Accuracy on training set: 0.473\n",
      "Accuracy on test set: 0.520\n"
     ]
    }
   ],
   "source": [
    "from sklearn.linear_model import LogisticRegression\n",
    "lr = LogisticRegression(C=1000.0, random_state=0)\n",
    "lr.fit(X_train_std, y_train)\n",
    "plot_decision_regions(X_train_std,y_train, classifier=lr,test_idx=range(50,150))\n",
    "plt.xlabel('Fixed Acidity')\n",
    "plt.ylabel('Alcohol')\n",
    "plt.legend(loc='upper left')\n",
    "plt.show()\n",
    "print(\"Accuracy on training set: {:.3f}\".format(lr.score(X_train,y_train)))\n",
    "print(\"Accuracy on test set: {:.3f}\".format(lr.score(X_test,y_test)))"
   ]
  },
  {
   "cell_type": "code",
   "execution_count": 81,
   "metadata": {},
   "outputs": [
    {
     "name": "stderr",
     "output_type": "stream",
     "text": [
      "/home/shriansh/.local/lib/python3.5/site-packages/sklearn/utils/validation.py:395: DeprecationWarning: Passing 1d arrays as data is deprecated in 0.17 and will raise ValueError in 0.19. Reshape your data either using X.reshape(-1, 1) if your data has a single feature or X.reshape(1, -1) if it contains a single sample.\n",
      "  DeprecationWarning)\n"
     ]
    },
    {
     "data": {
      "text/plain": [
       "array([[ 0.29118735,  0.70881265]])"
      ]
     },
     "execution_count": 81,
     "metadata": {},
     "output_type": "execute_result"
    }
   ],
   "source": [
    "lr.predict_proba(X_test_std[0,:])"
   ]
  },
  {
   "cell_type": "code",
   "execution_count": null,
   "metadata": {
    "collapsed": true
   },
   "outputs": [],
   "source": []
  },
  {
   "cell_type": "code",
   "execution_count": null,
   "metadata": {
    "collapsed": true
   },
   "outputs": [],
   "source": []
  }
 ],
 "metadata": {
  "kernelspec": {
   "display_name": "Python 3",
   "language": "python",
   "name": "python3"
  },
  "language_info": {
   "codemirror_mode": {
    "name": "ipython",
    "version": 3
   },
   "file_extension": ".py",
   "mimetype": "text/x-python",
   "name": "python",
   "nbconvert_exporter": "python",
   "pygments_lexer": "ipython3",
   "version": "3.5.2"
  }
 },
 "nbformat": 4,
 "nbformat_minor": 2
}
